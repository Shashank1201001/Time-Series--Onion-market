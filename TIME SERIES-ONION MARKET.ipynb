{
 "cells": [
  {
   "cell_type": "markdown",
   "metadata": {},
   "source": [
    "For the given data ‘MonthWiseMarketArrivals_Clean.csv’, below is attribute \n",
    "information: \n",
    " \n",
    "This dataset is about Indian onion market.Build a time series model for mumbai city.\n",
    " \n",
    "1. Market Name - Market Place Name \n",
    "2. Month - Month (January-December) \n",
    "3. Year - 1996-2016 \n",
    "4. Quantity - Quantity of Onion (in Kgs) \n",
    "5. priceMin - Minimum Selling Price \n",
    "6. priceMax - Maximum Selling Price \n",
    "7. Pricemod - Modal Price \n",
    "8. State - State of market \n",
    "9. City - City of market \n",
    "10. Date - Date of arrival\n",
    "\n"
   ]
  },
  {
   "cell_type": "code",
   "execution_count": 1,
   "metadata": {},
   "outputs": [],
   "source": [
    "\n",
    "import pandas as pd      # These are the necessary libraries that need to be import\n",
    "import numpy as np\n",
    "import warnings\n",
    "import seaborn as sb\n",
    "import matplotlib.pyplot as mp\n",
    "warnings.filterwarnings('ignore')\n",
    "pd.set_option('display.max_columns',None)\n",
    "pd.set_option('display.float_format', lambda x: '%.2f' % x)\n",
    "np.set_printoptions(suppress=True)"
   ]
  },
  {
   "cell_type": "code",
   "execution_count": 2,
   "metadata": {},
   "outputs": [
    {
     "data": {
      "text/html": [
       "<div>\n",
       "<style scoped>\n",
       "    .dataframe tbody tr th:only-of-type {\n",
       "        vertical-align: middle;\n",
       "    }\n",
       "\n",
       "    .dataframe tbody tr th {\n",
       "        vertical-align: top;\n",
       "    }\n",
       "\n",
       "    .dataframe thead th {\n",
       "        text-align: right;\n",
       "    }\n",
       "</style>\n",
       "<table border=\"1\" class=\"dataframe\">\n",
       "  <thead>\n",
       "    <tr style=\"text-align: right;\">\n",
       "      <th></th>\n",
       "      <th>market</th>\n",
       "      <th>month</th>\n",
       "      <th>year</th>\n",
       "      <th>quantity</th>\n",
       "      <th>priceMin</th>\n",
       "      <th>priceMax</th>\n",
       "      <th>priceMod</th>\n",
       "      <th>state</th>\n",
       "      <th>city</th>\n",
       "      <th>date</th>\n",
       "    </tr>\n",
       "  </thead>\n",
       "  <tbody>\n",
       "    <tr>\n",
       "      <th>0</th>\n",
       "      <td>ABOHAR(PB)</td>\n",
       "      <td>January</td>\n",
       "      <td>2005</td>\n",
       "      <td>2350</td>\n",
       "      <td>404</td>\n",
       "      <td>493</td>\n",
       "      <td>446</td>\n",
       "      <td>PB</td>\n",
       "      <td>ABOHAR</td>\n",
       "      <td>January-2005</td>\n",
       "    </tr>\n",
       "    <tr>\n",
       "      <th>1</th>\n",
       "      <td>ABOHAR(PB)</td>\n",
       "      <td>January</td>\n",
       "      <td>2006</td>\n",
       "      <td>900</td>\n",
       "      <td>487</td>\n",
       "      <td>638</td>\n",
       "      <td>563</td>\n",
       "      <td>PB</td>\n",
       "      <td>ABOHAR</td>\n",
       "      <td>January-2006</td>\n",
       "    </tr>\n",
       "    <tr>\n",
       "      <th>2</th>\n",
       "      <td>ABOHAR(PB)</td>\n",
       "      <td>January</td>\n",
       "      <td>2010</td>\n",
       "      <td>790</td>\n",
       "      <td>1283</td>\n",
       "      <td>1592</td>\n",
       "      <td>1460</td>\n",
       "      <td>PB</td>\n",
       "      <td>ABOHAR</td>\n",
       "      <td>January-2010</td>\n",
       "    </tr>\n",
       "    <tr>\n",
       "      <th>3</th>\n",
       "      <td>ABOHAR(PB)</td>\n",
       "      <td>January</td>\n",
       "      <td>2011</td>\n",
       "      <td>245</td>\n",
       "      <td>3067</td>\n",
       "      <td>3750</td>\n",
       "      <td>3433</td>\n",
       "      <td>PB</td>\n",
       "      <td>ABOHAR</td>\n",
       "      <td>January-2011</td>\n",
       "    </tr>\n",
       "    <tr>\n",
       "      <th>4</th>\n",
       "      <td>ABOHAR(PB)</td>\n",
       "      <td>January</td>\n",
       "      <td>2012</td>\n",
       "      <td>1035</td>\n",
       "      <td>523</td>\n",
       "      <td>686</td>\n",
       "      <td>605</td>\n",
       "      <td>PB</td>\n",
       "      <td>ABOHAR</td>\n",
       "      <td>January-2012</td>\n",
       "    </tr>\n",
       "  </tbody>\n",
       "</table>\n",
       "</div>"
      ],
      "text/plain": [
       "       market    month  year  quantity  priceMin  priceMax  priceMod state  \\\n",
       "0  ABOHAR(PB)  January  2005      2350       404       493       446    PB   \n",
       "1  ABOHAR(PB)  January  2006       900       487       638       563    PB   \n",
       "2  ABOHAR(PB)  January  2010       790      1283      1592      1460    PB   \n",
       "3  ABOHAR(PB)  January  2011       245      3067      3750      3433    PB   \n",
       "4  ABOHAR(PB)  January  2012      1035       523       686       605    PB   \n",
       "\n",
       "     city          date  \n",
       "0  ABOHAR  January-2005  \n",
       "1  ABOHAR  January-2006  \n",
       "2  ABOHAR  January-2010  \n",
       "3  ABOHAR  January-2011  \n",
       "4  ABOHAR  January-2012  "
      ]
     },
     "execution_count": 2,
     "metadata": {},
     "output_type": "execute_result"
    }
   ],
   "source": [
    "t=pd.read_csv(r'C:\\Users\\Lenovo\\Downloads\\MonthWiseMarketArrivals_Clean.csv',header=0,delimiter=',') # IT IS USED TO ACCESS THE FILE\n",
    "t.head()"
   ]
  },
  {
   "cell_type": "code",
   "execution_count": 3,
   "metadata": {},
   "outputs": [
    {
     "data": {
      "text/plain": [
       "(10227, 10)"
      ]
     },
     "execution_count": 3,
     "metadata": {},
     "output_type": "execute_result"
    }
   ],
   "source": [
    "t.shape"
   ]
  },
  {
   "cell_type": "code",
   "execution_count": 4,
   "metadata": {},
   "outputs": [
    {
     "data": {
      "text/html": [
       "<div>\n",
       "<style scoped>\n",
       "    .dataframe tbody tr th:only-of-type {\n",
       "        vertical-align: middle;\n",
       "    }\n",
       "\n",
       "    .dataframe tbody tr th {\n",
       "        vertical-align: top;\n",
       "    }\n",
       "\n",
       "    .dataframe thead th {\n",
       "        text-align: right;\n",
       "    }\n",
       "</style>\n",
       "<table border=\"1\" class=\"dataframe\">\n",
       "  <thead>\n",
       "    <tr style=\"text-align: right;\">\n",
       "      <th></th>\n",
       "      <th>market</th>\n",
       "      <th>month</th>\n",
       "      <th>year</th>\n",
       "      <th>quantity</th>\n",
       "      <th>priceMin</th>\n",
       "      <th>priceMax</th>\n",
       "      <th>priceMod</th>\n",
       "      <th>state</th>\n",
       "      <th>city</th>\n",
       "      <th>date</th>\n",
       "    </tr>\n",
       "  </thead>\n",
       "  <tbody>\n",
       "    <tr>\n",
       "      <th>0</th>\n",
       "      <td>ABOHAR(PB)</td>\n",
       "      <td>January</td>\n",
       "      <td>2005</td>\n",
       "      <td>2350</td>\n",
       "      <td>404</td>\n",
       "      <td>493</td>\n",
       "      <td>446</td>\n",
       "      <td>PB</td>\n",
       "      <td>ABOHAR</td>\n",
       "      <td>January-2005</td>\n",
       "    </tr>\n",
       "    <tr>\n",
       "      <th>1</th>\n",
       "      <td>ABOHAR(PB)</td>\n",
       "      <td>January</td>\n",
       "      <td>2006</td>\n",
       "      <td>900</td>\n",
       "      <td>487</td>\n",
       "      <td>638</td>\n",
       "      <td>563</td>\n",
       "      <td>PB</td>\n",
       "      <td>ABOHAR</td>\n",
       "      <td>January-2006</td>\n",
       "    </tr>\n",
       "    <tr>\n",
       "      <th>2</th>\n",
       "      <td>ABOHAR(PB)</td>\n",
       "      <td>January</td>\n",
       "      <td>2010</td>\n",
       "      <td>790</td>\n",
       "      <td>1283</td>\n",
       "      <td>1592</td>\n",
       "      <td>1460</td>\n",
       "      <td>PB</td>\n",
       "      <td>ABOHAR</td>\n",
       "      <td>January-2010</td>\n",
       "    </tr>\n",
       "    <tr>\n",
       "      <th>3</th>\n",
       "      <td>ABOHAR(PB)</td>\n",
       "      <td>January</td>\n",
       "      <td>2011</td>\n",
       "      <td>245</td>\n",
       "      <td>3067</td>\n",
       "      <td>3750</td>\n",
       "      <td>3433</td>\n",
       "      <td>PB</td>\n",
       "      <td>ABOHAR</td>\n",
       "      <td>January-2011</td>\n",
       "    </tr>\n",
       "    <tr>\n",
       "      <th>4</th>\n",
       "      <td>ABOHAR(PB)</td>\n",
       "      <td>January</td>\n",
       "      <td>2012</td>\n",
       "      <td>1035</td>\n",
       "      <td>523</td>\n",
       "      <td>686</td>\n",
       "      <td>605</td>\n",
       "      <td>PB</td>\n",
       "      <td>ABOHAR</td>\n",
       "      <td>January-2012</td>\n",
       "    </tr>\n",
       "    <tr>\n",
       "      <th>5</th>\n",
       "      <td>ABOHAR(PB)</td>\n",
       "      <td>January</td>\n",
       "      <td>2013</td>\n",
       "      <td>675</td>\n",
       "      <td>1327</td>\n",
       "      <td>1900</td>\n",
       "      <td>1605</td>\n",
       "      <td>PB</td>\n",
       "      <td>ABOHAR</td>\n",
       "      <td>January-2013</td>\n",
       "    </tr>\n",
       "    <tr>\n",
       "      <th>6</th>\n",
       "      <td>ABOHAR(PB)</td>\n",
       "      <td>January</td>\n",
       "      <td>2014</td>\n",
       "      <td>440</td>\n",
       "      <td>1025</td>\n",
       "      <td>1481</td>\n",
       "      <td>1256</td>\n",
       "      <td>PB</td>\n",
       "      <td>ABOHAR</td>\n",
       "      <td>January-2014</td>\n",
       "    </tr>\n",
       "    <tr>\n",
       "      <th>7</th>\n",
       "      <td>ABOHAR(PB)</td>\n",
       "      <td>January</td>\n",
       "      <td>2015</td>\n",
       "      <td>1305</td>\n",
       "      <td>1309</td>\n",
       "      <td>1858</td>\n",
       "      <td>1613</td>\n",
       "      <td>PB</td>\n",
       "      <td>ABOHAR</td>\n",
       "      <td>January-2015</td>\n",
       "    </tr>\n",
       "    <tr>\n",
       "      <th>8</th>\n",
       "      <td>ABOHAR(PB)</td>\n",
       "      <td>February</td>\n",
       "      <td>2005</td>\n",
       "      <td>1400</td>\n",
       "      <td>286</td>\n",
       "      <td>365</td>\n",
       "      <td>324</td>\n",
       "      <td>PB</td>\n",
       "      <td>ABOHAR</td>\n",
       "      <td>February-2005</td>\n",
       "    </tr>\n",
       "    <tr>\n",
       "      <th>9</th>\n",
       "      <td>ABOHAR(PB)</td>\n",
       "      <td>February</td>\n",
       "      <td>2006</td>\n",
       "      <td>1800</td>\n",
       "      <td>343</td>\n",
       "      <td>411</td>\n",
       "      <td>380</td>\n",
       "      <td>PB</td>\n",
       "      <td>ABOHAR</td>\n",
       "      <td>February-2006</td>\n",
       "    </tr>\n",
       "    <tr>\n",
       "      <th>10</th>\n",
       "      <td>ABOHAR(PB)</td>\n",
       "      <td>February</td>\n",
       "      <td>2010</td>\n",
       "      <td>555</td>\n",
       "      <td>1143</td>\n",
       "      <td>1460</td>\n",
       "      <td>1322</td>\n",
       "      <td>PB</td>\n",
       "      <td>ABOHAR</td>\n",
       "      <td>February-2010</td>\n",
       "    </tr>\n",
       "    <tr>\n",
       "      <th>11</th>\n",
       "      <td>ABOHAR(PB)</td>\n",
       "      <td>February</td>\n",
       "      <td>2011</td>\n",
       "      <td>300</td>\n",
       "      <td>950</td>\n",
       "      <td>1400</td>\n",
       "      <td>1125</td>\n",
       "      <td>PB</td>\n",
       "      <td>ABOHAR</td>\n",
       "      <td>February-2011</td>\n",
       "    </tr>\n",
       "    <tr>\n",
       "      <th>12</th>\n",
       "      <td>ABOHAR(PB)</td>\n",
       "      <td>February</td>\n",
       "      <td>2012</td>\n",
       "      <td>675</td>\n",
       "      <td>510</td>\n",
       "      <td>650</td>\n",
       "      <td>570</td>\n",
       "      <td>PB</td>\n",
       "      <td>ABOHAR</td>\n",
       "      <td>February-2012</td>\n",
       "    </tr>\n",
       "    <tr>\n",
       "      <th>13</th>\n",
       "      <td>ABOHAR(PB)</td>\n",
       "      <td>February</td>\n",
       "      <td>2013</td>\n",
       "      <td>845</td>\n",
       "      <td>1400</td>\n",
       "      <td>1843</td>\n",
       "      <td>1629</td>\n",
       "      <td>PB</td>\n",
       "      <td>ABOHAR</td>\n",
       "      <td>February-2013</td>\n",
       "    </tr>\n",
       "    <tr>\n",
       "      <th>14</th>\n",
       "      <td>ABOHAR(PB)</td>\n",
       "      <td>February</td>\n",
       "      <td>2014</td>\n",
       "      <td>1115</td>\n",
       "      <td>831</td>\n",
       "      <td>1163</td>\n",
       "      <td>983</td>\n",
       "      <td>PB</td>\n",
       "      <td>ABOHAR</td>\n",
       "      <td>February-2014</td>\n",
       "    </tr>\n",
       "    <tr>\n",
       "      <th>15</th>\n",
       "      <td>ABOHAR(PB)</td>\n",
       "      <td>February</td>\n",
       "      <td>2015</td>\n",
       "      <td>1115</td>\n",
       "      <td>1200</td>\n",
       "      <td>1946</td>\n",
       "      <td>1688</td>\n",
       "      <td>PB</td>\n",
       "      <td>ABOHAR</td>\n",
       "      <td>February-2015</td>\n",
       "    </tr>\n",
       "    <tr>\n",
       "      <th>16</th>\n",
       "      <td>ABOHAR(PB)</td>\n",
       "      <td>March</td>\n",
       "      <td>2005</td>\n",
       "      <td>900</td>\n",
       "      <td>281</td>\n",
       "      <td>357</td>\n",
       "      <td>322</td>\n",
       "      <td>PB</td>\n",
       "      <td>ABOHAR</td>\n",
       "      <td>March-2005</td>\n",
       "    </tr>\n",
       "    <tr>\n",
       "      <th>17</th>\n",
       "      <td>ABOHAR(PB)</td>\n",
       "      <td>March</td>\n",
       "      <td>2006</td>\n",
       "      <td>3185</td>\n",
       "      <td>359</td>\n",
       "      <td>425</td>\n",
       "      <td>391</td>\n",
       "      <td>PB</td>\n",
       "      <td>ABOHAR</td>\n",
       "      <td>March-2006</td>\n",
       "    </tr>\n",
       "    <tr>\n",
       "      <th>18</th>\n",
       "      <td>ABOHAR(PB)</td>\n",
       "      <td>March</td>\n",
       "      <td>2010</td>\n",
       "      <td>385</td>\n",
       "      <td>510</td>\n",
       "      <td>878</td>\n",
       "      <td>688</td>\n",
       "      <td>PB</td>\n",
       "      <td>ABOHAR</td>\n",
       "      <td>March-2010</td>\n",
       "    </tr>\n",
       "    <tr>\n",
       "      <th>19</th>\n",
       "      <td>ABOHAR(PB)</td>\n",
       "      <td>March</td>\n",
       "      <td>2011</td>\n",
       "      <td>850</td>\n",
       "      <td>669</td>\n",
       "      <td>1042</td>\n",
       "      <td>855</td>\n",
       "      <td>PB</td>\n",
       "      <td>ABOHAR</td>\n",
       "      <td>March-2011</td>\n",
       "    </tr>\n",
       "    <tr>\n",
       "      <th>20</th>\n",
       "      <td>ABOHAR(PB)</td>\n",
       "      <td>March</td>\n",
       "      <td>2012</td>\n",
       "      <td>1295</td>\n",
       "      <td>538</td>\n",
       "      <td>675</td>\n",
       "      <td>608</td>\n",
       "      <td>PB</td>\n",
       "      <td>ABOHAR</td>\n",
       "      <td>March-2012</td>\n",
       "    </tr>\n",
       "    <tr>\n",
       "      <th>21</th>\n",
       "      <td>ABOHAR(PB)</td>\n",
       "      <td>March</td>\n",
       "      <td>2013</td>\n",
       "      <td>1055</td>\n",
       "      <td>920</td>\n",
       "      <td>1323</td>\n",
       "      <td>1080</td>\n",
       "      <td>PB</td>\n",
       "      <td>ABOHAR</td>\n",
       "      <td>March-2013</td>\n",
       "    </tr>\n",
       "    <tr>\n",
       "      <th>22</th>\n",
       "      <td>ABOHAR(PB)</td>\n",
       "      <td>March</td>\n",
       "      <td>2014</td>\n",
       "      <td>1300</td>\n",
       "      <td>844</td>\n",
       "      <td>1181</td>\n",
       "      <td>994</td>\n",
       "      <td>PB</td>\n",
       "      <td>ABOHAR</td>\n",
       "      <td>March-2014</td>\n",
       "    </tr>\n",
       "    <tr>\n",
       "      <th>23</th>\n",
       "      <td>ABOHAR(PB)</td>\n",
       "      <td>March</td>\n",
       "      <td>2015</td>\n",
       "      <td>920</td>\n",
       "      <td>1260</td>\n",
       "      <td>1980</td>\n",
       "      <td>1745</td>\n",
       "      <td>PB</td>\n",
       "      <td>ABOHAR</td>\n",
       "      <td>March-2015</td>\n",
       "    </tr>\n",
       "    <tr>\n",
       "      <th>24</th>\n",
       "      <td>ABOHAR(PB)</td>\n",
       "      <td>April</td>\n",
       "      <td>2006</td>\n",
       "      <td>2100</td>\n",
       "      <td>326</td>\n",
       "      <td>400</td>\n",
       "      <td>366</td>\n",
       "      <td>PB</td>\n",
       "      <td>ABOHAR</td>\n",
       "      <td>April-2006</td>\n",
       "    </tr>\n",
       "    <tr>\n",
       "      <th>25</th>\n",
       "      <td>ABOHAR(PB)</td>\n",
       "      <td>April</td>\n",
       "      <td>2010</td>\n",
       "      <td>840</td>\n",
       "      <td>466</td>\n",
       "      <td>755</td>\n",
       "      <td>611</td>\n",
       "      <td>PB</td>\n",
       "      <td>ABOHAR</td>\n",
       "      <td>April-2010</td>\n",
       "    </tr>\n",
       "    <tr>\n",
       "      <th>26</th>\n",
       "      <td>ABOHAR(PB)</td>\n",
       "      <td>April</td>\n",
       "      <td>2011</td>\n",
       "      <td>495</td>\n",
       "      <td>436</td>\n",
       "      <td>625</td>\n",
       "      <td>553</td>\n",
       "      <td>PB</td>\n",
       "      <td>ABOHAR</td>\n",
       "      <td>April-2011</td>\n",
       "    </tr>\n",
       "    <tr>\n",
       "      <th>27</th>\n",
       "      <td>ABOHAR(PB)</td>\n",
       "      <td>April</td>\n",
       "      <td>2012</td>\n",
       "      <td>2028</td>\n",
       "      <td>486</td>\n",
       "      <td>709</td>\n",
       "      <td>573</td>\n",
       "      <td>PB</td>\n",
       "      <td>ABOHAR</td>\n",
       "      <td>April-2012</td>\n",
       "    </tr>\n",
       "    <tr>\n",
       "      <th>28</th>\n",
       "      <td>ABOHAR(PB)</td>\n",
       "      <td>April</td>\n",
       "      <td>2013</td>\n",
       "      <td>932</td>\n",
       "      <td>892</td>\n",
       "      <td>1225</td>\n",
       "      <td>1035</td>\n",
       "      <td>PB</td>\n",
       "      <td>ABOHAR</td>\n",
       "      <td>April-2013</td>\n",
       "    </tr>\n",
       "    <tr>\n",
       "      <th>29</th>\n",
       "      <td>ABOHAR(PB)</td>\n",
       "      <td>April</td>\n",
       "      <td>2014</td>\n",
       "      <td>670</td>\n",
       "      <td>600</td>\n",
       "      <td>944</td>\n",
       "      <td>772</td>\n",
       "      <td>PB</td>\n",
       "      <td>ABOHAR</td>\n",
       "      <td>April-2014</td>\n",
       "    </tr>\n",
       "  </tbody>\n",
       "</table>\n",
       "</div>"
      ],
      "text/plain": [
       "        market     month  year  quantity  priceMin  priceMax  priceMod state  \\\n",
       "0   ABOHAR(PB)   January  2005      2350       404       493       446    PB   \n",
       "1   ABOHAR(PB)   January  2006       900       487       638       563    PB   \n",
       "2   ABOHAR(PB)   January  2010       790      1283      1592      1460    PB   \n",
       "3   ABOHAR(PB)   January  2011       245      3067      3750      3433    PB   \n",
       "4   ABOHAR(PB)   January  2012      1035       523       686       605    PB   \n",
       "5   ABOHAR(PB)   January  2013       675      1327      1900      1605    PB   \n",
       "6   ABOHAR(PB)   January  2014       440      1025      1481      1256    PB   \n",
       "7   ABOHAR(PB)   January  2015      1305      1309      1858      1613    PB   \n",
       "8   ABOHAR(PB)  February  2005      1400       286       365       324    PB   \n",
       "9   ABOHAR(PB)  February  2006      1800       343       411       380    PB   \n",
       "10  ABOHAR(PB)  February  2010       555      1143      1460      1322    PB   \n",
       "11  ABOHAR(PB)  February  2011       300       950      1400      1125    PB   \n",
       "12  ABOHAR(PB)  February  2012       675       510       650       570    PB   \n",
       "13  ABOHAR(PB)  February  2013       845      1400      1843      1629    PB   \n",
       "14  ABOHAR(PB)  February  2014      1115       831      1163       983    PB   \n",
       "15  ABOHAR(PB)  February  2015      1115      1200      1946      1688    PB   \n",
       "16  ABOHAR(PB)     March  2005       900       281       357       322    PB   \n",
       "17  ABOHAR(PB)     March  2006      3185       359       425       391    PB   \n",
       "18  ABOHAR(PB)     March  2010       385       510       878       688    PB   \n",
       "19  ABOHAR(PB)     March  2011       850       669      1042       855    PB   \n",
       "20  ABOHAR(PB)     March  2012      1295       538       675       608    PB   \n",
       "21  ABOHAR(PB)     March  2013      1055       920      1323      1080    PB   \n",
       "22  ABOHAR(PB)     March  2014      1300       844      1181       994    PB   \n",
       "23  ABOHAR(PB)     March  2015       920      1260      1980      1745    PB   \n",
       "24  ABOHAR(PB)     April  2006      2100       326       400       366    PB   \n",
       "25  ABOHAR(PB)     April  2010       840       466       755       611    PB   \n",
       "26  ABOHAR(PB)     April  2011       495       436       625       553    PB   \n",
       "27  ABOHAR(PB)     April  2012      2028       486       709       573    PB   \n",
       "28  ABOHAR(PB)     April  2013       932       892      1225      1035    PB   \n",
       "29  ABOHAR(PB)     April  2014       670       600       944       772    PB   \n",
       "\n",
       "      city           date  \n",
       "0   ABOHAR   January-2005  \n",
       "1   ABOHAR   January-2006  \n",
       "2   ABOHAR   January-2010  \n",
       "3   ABOHAR   January-2011  \n",
       "4   ABOHAR   January-2012  \n",
       "5   ABOHAR   January-2013  \n",
       "6   ABOHAR   January-2014  \n",
       "7   ABOHAR   January-2015  \n",
       "8   ABOHAR  February-2005  \n",
       "9   ABOHAR  February-2006  \n",
       "10  ABOHAR  February-2010  \n",
       "11  ABOHAR  February-2011  \n",
       "12  ABOHAR  February-2012  \n",
       "13  ABOHAR  February-2013  \n",
       "14  ABOHAR  February-2014  \n",
       "15  ABOHAR  February-2015  \n",
       "16  ABOHAR     March-2005  \n",
       "17  ABOHAR     March-2006  \n",
       "18  ABOHAR     March-2010  \n",
       "19  ABOHAR     March-2011  \n",
       "20  ABOHAR     March-2012  \n",
       "21  ABOHAR     March-2013  \n",
       "22  ABOHAR     March-2014  \n",
       "23  ABOHAR     March-2015  \n",
       "24  ABOHAR     April-2006  \n",
       "25  ABOHAR     April-2010  \n",
       "26  ABOHAR     April-2011  \n",
       "27  ABOHAR     April-2012  \n",
       "28  ABOHAR     April-2013  \n",
       "29  ABOHAR     April-2014  "
      ]
     },
     "execution_count": 4,
     "metadata": {},
     "output_type": "execute_result"
    }
   ],
   "source": [
    "t.head(30)"
   ]
  },
  {
   "cell_type": "code",
   "execution_count": 5,
   "metadata": {},
   "outputs": [
    {
     "data": {
      "text/plain": [
       "market      object\n",
       "month       object\n",
       "year         int64\n",
       "quantity     int64\n",
       "priceMin     int64\n",
       "priceMax     int64\n",
       "priceMod     int64\n",
       "state       object\n",
       "city        object\n",
       "date        object\n",
       "dtype: object"
      ]
     },
     "execution_count": 5,
     "metadata": {},
     "output_type": "execute_result"
    }
   ],
   "source": [
    "t.dtypes"
   ]
  },
  {
   "cell_type": "code",
   "execution_count": 6,
   "metadata": {},
   "outputs": [
    {
     "data": {
      "text/plain": [
       "2015    1053\n",
       "2010     813\n",
       "2014     773\n",
       "2009     760\n",
       "2013     740\n",
       "2007     738\n",
       "2006     736\n",
       "2011     733\n",
       "2012     718\n",
       "2005     716\n",
       "2008     685\n",
       "2004     525\n",
       "2003     290\n",
       "2002     256\n",
       "2016     164\n",
       "2001     126\n",
       "1999     124\n",
       "2000     124\n",
       "1998     106\n",
       "1997      35\n",
       "1996      12\n",
       "Name: year, dtype: int64"
      ]
     },
     "execution_count": 6,
     "metadata": {},
     "output_type": "execute_result"
    }
   ],
   "source": [
    "t['year'].value_counts()"
   ]
  },
  {
   "cell_type": "code",
   "execution_count": 7,
   "metadata": {},
   "outputs": [],
   "source": [
    "from datetime import datetime   # HERE WE ARE CONVERTING INTO DATE\n",
    "t['Date'] = pd.to_datetime(t['month'] + ' ' + t['year'].astype(str), format='%B %Y')"
   ]
  },
  {
   "cell_type": "code",
   "execution_count": 8,
   "metadata": {},
   "outputs": [
    {
     "data": {
      "text/plain": [
       "Index(['market', 'month', 'year', 'quantity', 'priceMin', 'priceMax',\n",
       "       'priceMod', 'state', 'city', 'date', 'Date'],\n",
       "      dtype='object')"
      ]
     },
     "execution_count": 8,
     "metadata": {},
     "output_type": "execute_result"
    }
   ],
   "source": [
    "t.columns"
   ]
  },
  {
   "cell_type": "code",
   "execution_count": 9,
   "metadata": {},
   "outputs": [
    {
     "data": {
      "text/html": [
       "<div>\n",
       "<style scoped>\n",
       "    .dataframe tbody tr th:only-of-type {\n",
       "        vertical-align: middle;\n",
       "    }\n",
       "\n",
       "    .dataframe tbody tr th {\n",
       "        vertical-align: top;\n",
       "    }\n",
       "\n",
       "    .dataframe thead th {\n",
       "        text-align: right;\n",
       "    }\n",
       "</style>\n",
       "<table border=\"1\" class=\"dataframe\">\n",
       "  <thead>\n",
       "    <tr style=\"text-align: right;\">\n",
       "      <th></th>\n",
       "      <th>market</th>\n",
       "      <th>month</th>\n",
       "      <th>year</th>\n",
       "      <th>quantity</th>\n",
       "      <th>priceMin</th>\n",
       "      <th>priceMax</th>\n",
       "      <th>priceMod</th>\n",
       "      <th>state</th>\n",
       "      <th>city</th>\n",
       "      <th>date</th>\n",
       "      <th>Date</th>\n",
       "    </tr>\n",
       "  </thead>\n",
       "  <tbody>\n",
       "    <tr>\n",
       "      <th>6654</th>\n",
       "      <td>MUMBAI</td>\n",
       "      <td>January</td>\n",
       "      <td>2004</td>\n",
       "      <td>267100</td>\n",
       "      <td>719</td>\n",
       "      <td>971</td>\n",
       "      <td>849</td>\n",
       "      <td>MS</td>\n",
       "      <td>MUMBAI</td>\n",
       "      <td>January-2004</td>\n",
       "      <td>2004-01-01</td>\n",
       "    </tr>\n",
       "    <tr>\n",
       "      <th>6655</th>\n",
       "      <td>MUMBAI</td>\n",
       "      <td>January</td>\n",
       "      <td>2005</td>\n",
       "      <td>275845</td>\n",
       "      <td>261</td>\n",
       "      <td>513</td>\n",
       "      <td>387</td>\n",
       "      <td>MS</td>\n",
       "      <td>MUMBAI</td>\n",
       "      <td>January-2005</td>\n",
       "      <td>2005-01-01</td>\n",
       "    </tr>\n",
       "    <tr>\n",
       "      <th>6656</th>\n",
       "      <td>MUMBAI</td>\n",
       "      <td>January</td>\n",
       "      <td>2006</td>\n",
       "      <td>228000</td>\n",
       "      <td>315</td>\n",
       "      <td>488</td>\n",
       "      <td>402</td>\n",
       "      <td>MS</td>\n",
       "      <td>MUMBAI</td>\n",
       "      <td>January-2006</td>\n",
       "      <td>2006-01-01</td>\n",
       "    </tr>\n",
       "    <tr>\n",
       "      <th>6657</th>\n",
       "      <td>MUMBAI</td>\n",
       "      <td>January</td>\n",
       "      <td>2007</td>\n",
       "      <td>205200</td>\n",
       "      <td>866</td>\n",
       "      <td>1136</td>\n",
       "      <td>997</td>\n",
       "      <td>MS</td>\n",
       "      <td>MUMBAI</td>\n",
       "      <td>January-2007</td>\n",
       "      <td>2007-01-01</td>\n",
       "    </tr>\n",
       "    <tr>\n",
       "      <th>6658</th>\n",
       "      <td>MUMBAI</td>\n",
       "      <td>January</td>\n",
       "      <td>2008</td>\n",
       "      <td>267550</td>\n",
       "      <td>348</td>\n",
       "      <td>550</td>\n",
       "      <td>448</td>\n",
       "      <td>MS</td>\n",
       "      <td>MUMBAI</td>\n",
       "      <td>January-2008</td>\n",
       "      <td>2008-01-01</td>\n",
       "    </tr>\n",
       "    <tr>\n",
       "      <th>...</th>\n",
       "      <td>...</td>\n",
       "      <td>...</td>\n",
       "      <td>...</td>\n",
       "      <td>...</td>\n",
       "      <td>...</td>\n",
       "      <td>...</td>\n",
       "      <td>...</td>\n",
       "      <td>...</td>\n",
       "      <td>...</td>\n",
       "      <td>...</td>\n",
       "      <td>...</td>\n",
       "    </tr>\n",
       "    <tr>\n",
       "      <th>6795</th>\n",
       "      <td>MUMBAI</td>\n",
       "      <td>December</td>\n",
       "      <td>2011</td>\n",
       "      <td>290350</td>\n",
       "      <td>519</td>\n",
       "      <td>994</td>\n",
       "      <td>749</td>\n",
       "      <td>MS</td>\n",
       "      <td>MUMBAI</td>\n",
       "      <td>December-2011</td>\n",
       "      <td>2011-12-01</td>\n",
       "    </tr>\n",
       "    <tr>\n",
       "      <th>6796</th>\n",
       "      <td>MUMBAI</td>\n",
       "      <td>December</td>\n",
       "      <td>2012</td>\n",
       "      <td>218500</td>\n",
       "      <td>1048</td>\n",
       "      <td>1609</td>\n",
       "      <td>1330</td>\n",
       "      <td>MS</td>\n",
       "      <td>MUMBAI</td>\n",
       "      <td>December-2012</td>\n",
       "      <td>2012-12-01</td>\n",
       "    </tr>\n",
       "    <tr>\n",
       "      <th>6797</th>\n",
       "      <td>MUMBAI</td>\n",
       "      <td>December</td>\n",
       "      <td>2013</td>\n",
       "      <td>226385</td>\n",
       "      <td>1298</td>\n",
       "      <td>1976</td>\n",
       "      <td>1639</td>\n",
       "      <td>MS</td>\n",
       "      <td>MUMBAI</td>\n",
       "      <td>December-2013</td>\n",
       "      <td>2013-12-01</td>\n",
       "    </tr>\n",
       "    <tr>\n",
       "      <th>6798</th>\n",
       "      <td>MUMBAI</td>\n",
       "      <td>December</td>\n",
       "      <td>2014</td>\n",
       "      <td>294150</td>\n",
       "      <td>1433</td>\n",
       "      <td>2178</td>\n",
       "      <td>1802</td>\n",
       "      <td>MS</td>\n",
       "      <td>MUMBAI</td>\n",
       "      <td>December-2014</td>\n",
       "      <td>2014-12-01</td>\n",
       "    </tr>\n",
       "    <tr>\n",
       "      <th>6799</th>\n",
       "      <td>MUMBAI</td>\n",
       "      <td>December</td>\n",
       "      <td>2015</td>\n",
       "      <td>302409</td>\n",
       "      <td>1027</td>\n",
       "      <td>1877</td>\n",
       "      <td>1542</td>\n",
       "      <td>MS</td>\n",
       "      <td>MUMBAI</td>\n",
       "      <td>December-2015</td>\n",
       "      <td>2015-12-01</td>\n",
       "    </tr>\n",
       "  </tbody>\n",
       "</table>\n",
       "<p>146 rows × 11 columns</p>\n",
       "</div>"
      ],
      "text/plain": [
       "      market     month  year  quantity  priceMin  priceMax  priceMod state  \\\n",
       "6654  MUMBAI   January  2004    267100       719       971       849    MS   \n",
       "6655  MUMBAI   January  2005    275845       261       513       387    MS   \n",
       "6656  MUMBAI   January  2006    228000       315       488       402    MS   \n",
       "6657  MUMBAI   January  2007    205200       866      1136       997    MS   \n",
       "6658  MUMBAI   January  2008    267550       348       550       448    MS   \n",
       "...      ...       ...   ...       ...       ...       ...       ...   ...   \n",
       "6795  MUMBAI  December  2011    290350       519       994       749    MS   \n",
       "6796  MUMBAI  December  2012    218500      1048      1609      1330    MS   \n",
       "6797  MUMBAI  December  2013    226385      1298      1976      1639    MS   \n",
       "6798  MUMBAI  December  2014    294150      1433      2178      1802    MS   \n",
       "6799  MUMBAI  December  2015    302409      1027      1877      1542    MS   \n",
       "\n",
       "        city           date       Date  \n",
       "6654  MUMBAI   January-2004 2004-01-01  \n",
       "6655  MUMBAI   January-2005 2005-01-01  \n",
       "6656  MUMBAI   January-2006 2006-01-01  \n",
       "6657  MUMBAI   January-2007 2007-01-01  \n",
       "6658  MUMBAI   January-2008 2008-01-01  \n",
       "...      ...            ...        ...  \n",
       "6795  MUMBAI  December-2011 2011-12-01  \n",
       "6796  MUMBAI  December-2012 2012-12-01  \n",
       "6797  MUMBAI  December-2013 2013-12-01  \n",
       "6798  MUMBAI  December-2014 2014-12-01  \n",
       "6799  MUMBAI  December-2015 2015-12-01  \n",
       "\n",
       "[146 rows x 11 columns]"
      ]
     },
     "execution_count": 9,
     "metadata": {},
     "output_type": "execute_result"
    }
   ],
   "source": [
    "m=t[t['city']=='MUMBAI']\n",
    "m"
   ]
  },
  {
   "cell_type": "code",
   "execution_count": 10,
   "metadata": {},
   "outputs": [
    {
     "data": {
      "text/html": [
       "<div>\n",
       "<style scoped>\n",
       "    .dataframe tbody tr th:only-of-type {\n",
       "        vertical-align: middle;\n",
       "    }\n",
       "\n",
       "    .dataframe tbody tr th {\n",
       "        vertical-align: top;\n",
       "    }\n",
       "\n",
       "    .dataframe thead th {\n",
       "        text-align: right;\n",
       "    }\n",
       "</style>\n",
       "<table border=\"1\" class=\"dataframe\">\n",
       "  <thead>\n",
       "    <tr style=\"text-align: right;\">\n",
       "      <th></th>\n",
       "      <th>Date</th>\n",
       "      <th>priceMod</th>\n",
       "    </tr>\n",
       "  </thead>\n",
       "  <tbody>\n",
       "    <tr>\n",
       "      <th>6654</th>\n",
       "      <td>2004-01-01</td>\n",
       "      <td>849</td>\n",
       "    </tr>\n",
       "    <tr>\n",
       "      <th>6655</th>\n",
       "      <td>2005-01-01</td>\n",
       "      <td>387</td>\n",
       "    </tr>\n",
       "    <tr>\n",
       "      <th>6656</th>\n",
       "      <td>2006-01-01</td>\n",
       "      <td>402</td>\n",
       "    </tr>\n",
       "    <tr>\n",
       "      <th>6657</th>\n",
       "      <td>2007-01-01</td>\n",
       "      <td>997</td>\n",
       "    </tr>\n",
       "    <tr>\n",
       "      <th>6658</th>\n",
       "      <td>2008-01-01</td>\n",
       "      <td>448</td>\n",
       "    </tr>\n",
       "    <tr>\n",
       "      <th>...</th>\n",
       "      <td>...</td>\n",
       "      <td>...</td>\n",
       "    </tr>\n",
       "    <tr>\n",
       "      <th>6795</th>\n",
       "      <td>2011-12-01</td>\n",
       "      <td>749</td>\n",
       "    </tr>\n",
       "    <tr>\n",
       "      <th>6796</th>\n",
       "      <td>2012-12-01</td>\n",
       "      <td>1330</td>\n",
       "    </tr>\n",
       "    <tr>\n",
       "      <th>6797</th>\n",
       "      <td>2013-12-01</td>\n",
       "      <td>1639</td>\n",
       "    </tr>\n",
       "    <tr>\n",
       "      <th>6798</th>\n",
       "      <td>2014-12-01</td>\n",
       "      <td>1802</td>\n",
       "    </tr>\n",
       "    <tr>\n",
       "      <th>6799</th>\n",
       "      <td>2015-12-01</td>\n",
       "      <td>1542</td>\n",
       "    </tr>\n",
       "  </tbody>\n",
       "</table>\n",
       "<p>146 rows × 2 columns</p>\n",
       "</div>"
      ],
      "text/plain": [
       "           Date  priceMod\n",
       "6654 2004-01-01       849\n",
       "6655 2005-01-01       387\n",
       "6656 2006-01-01       402\n",
       "6657 2007-01-01       997\n",
       "6658 2008-01-01       448\n",
       "...         ...       ...\n",
       "6795 2011-12-01       749\n",
       "6796 2012-12-01      1330\n",
       "6797 2013-12-01      1639\n",
       "6798 2014-12-01      1802\n",
       "6799 2015-12-01      1542\n",
       "\n",
       "[146 rows x 2 columns]"
      ]
     },
     "execution_count": 10,
     "metadata": {},
     "output_type": "execute_result"
    }
   ],
   "source": [
    "m=m[['Date','priceMod']]\n",
    "m"
   ]
  },
  {
   "cell_type": "code",
   "execution_count": 11,
   "metadata": {},
   "outputs": [
    {
     "data": {
      "text/html": [
       "<div>\n",
       "<style scoped>\n",
       "    .dataframe tbody tr th:only-of-type {\n",
       "        vertical-align: middle;\n",
       "    }\n",
       "\n",
       "    .dataframe tbody tr th {\n",
       "        vertical-align: top;\n",
       "    }\n",
       "\n",
       "    .dataframe thead th {\n",
       "        text-align: right;\n",
       "    }\n",
       "</style>\n",
       "<table border=\"1\" class=\"dataframe\">\n",
       "  <thead>\n",
       "    <tr style=\"text-align: right;\">\n",
       "      <th></th>\n",
       "      <th>Date</th>\n",
       "      <th>priceMod</th>\n",
       "    </tr>\n",
       "  </thead>\n",
       "  <tbody>\n",
       "    <tr>\n",
       "      <th>6654</th>\n",
       "      <td>2004-01-01</td>\n",
       "      <td>849</td>\n",
       "    </tr>\n",
       "    <tr>\n",
       "      <th>6667</th>\n",
       "      <td>2004-02-01</td>\n",
       "      <td>736</td>\n",
       "    </tr>\n",
       "    <tr>\n",
       "      <th>6680</th>\n",
       "      <td>2004-03-01</td>\n",
       "      <td>498</td>\n",
       "    </tr>\n",
       "    <tr>\n",
       "      <th>6692</th>\n",
       "      <td>2004-04-01</td>\n",
       "      <td>397</td>\n",
       "    </tr>\n",
       "    <tr>\n",
       "      <th>6704</th>\n",
       "      <td>2004-05-01</td>\n",
       "      <td>405</td>\n",
       "    </tr>\n",
       "    <tr>\n",
       "      <th>...</th>\n",
       "      <td>...</td>\n",
       "      <td>...</td>\n",
       "    </tr>\n",
       "    <tr>\n",
       "      <th>6775</th>\n",
       "      <td>2015-10-01</td>\n",
       "      <td>3748</td>\n",
       "    </tr>\n",
       "    <tr>\n",
       "      <th>6787</th>\n",
       "      <td>2015-11-01</td>\n",
       "      <td>2623</td>\n",
       "    </tr>\n",
       "    <tr>\n",
       "      <th>6799</th>\n",
       "      <td>2015-12-01</td>\n",
       "      <td>1542</td>\n",
       "    </tr>\n",
       "    <tr>\n",
       "      <th>6666</th>\n",
       "      <td>2016-01-01</td>\n",
       "      <td>1215</td>\n",
       "    </tr>\n",
       "    <tr>\n",
       "      <th>6679</th>\n",
       "      <td>2016-02-01</td>\n",
       "      <td>1128</td>\n",
       "    </tr>\n",
       "  </tbody>\n",
       "</table>\n",
       "<p>146 rows × 2 columns</p>\n",
       "</div>"
      ],
      "text/plain": [
       "           Date  priceMod\n",
       "6654 2004-01-01       849\n",
       "6667 2004-02-01       736\n",
       "6680 2004-03-01       498\n",
       "6692 2004-04-01       397\n",
       "6704 2004-05-01       405\n",
       "...         ...       ...\n",
       "6775 2015-10-01      3748\n",
       "6787 2015-11-01      2623\n",
       "6799 2015-12-01      1542\n",
       "6666 2016-01-01      1215\n",
       "6679 2016-02-01      1128\n",
       "\n",
       "[146 rows x 2 columns]"
      ]
     },
     "execution_count": 11,
     "metadata": {},
     "output_type": "execute_result"
    }
   ],
   "source": [
    "m=m.sort_values('Date')\n",
    "m"
   ]
  },
  {
   "cell_type": "code",
   "execution_count": 12,
   "metadata": {},
   "outputs": [
    {
     "data": {
      "text/plain": [
       "2015-09-01    97\n",
       "2015-12-01    93\n",
       "2015-10-01    90\n",
       "2015-02-01    90\n",
       "2015-11-01    89\n",
       "              ..\n",
       "1997-06-01     1\n",
       "1996-06-01     1\n",
       "1997-05-01     1\n",
       "1997-03-01     1\n",
       "1996-05-01     1\n",
       "Name: Date, Length: 242, dtype: int64"
      ]
     },
     "execution_count": 12,
     "metadata": {},
     "output_type": "execute_result"
    }
   ],
   "source": [
    "t['Date'].value_counts()"
   ]
  },
  {
   "cell_type": "code",
   "execution_count": 13,
   "metadata": {},
   "outputs": [],
   "source": [
    "m=m.groupby('Date')['priceMod'].sum().reset_index()"
   ]
  },
  {
   "cell_type": "code",
   "execution_count": 14,
   "metadata": {},
   "outputs": [
    {
     "data": {
      "text/html": [
       "<div>\n",
       "<style scoped>\n",
       "    .dataframe tbody tr th:only-of-type {\n",
       "        vertical-align: middle;\n",
       "    }\n",
       "\n",
       "    .dataframe tbody tr th {\n",
       "        vertical-align: top;\n",
       "    }\n",
       "\n",
       "    .dataframe thead th {\n",
       "        text-align: right;\n",
       "    }\n",
       "</style>\n",
       "<table border=\"1\" class=\"dataframe\">\n",
       "  <thead>\n",
       "    <tr style=\"text-align: right;\">\n",
       "      <th></th>\n",
       "      <th>Date</th>\n",
       "      <th>priceMod</th>\n",
       "    </tr>\n",
       "  </thead>\n",
       "  <tbody>\n",
       "    <tr>\n",
       "      <th>0</th>\n",
       "      <td>2004-01-01</td>\n",
       "      <td>849</td>\n",
       "    </tr>\n",
       "    <tr>\n",
       "      <th>1</th>\n",
       "      <td>2004-02-01</td>\n",
       "      <td>736</td>\n",
       "    </tr>\n",
       "    <tr>\n",
       "      <th>2</th>\n",
       "      <td>2004-03-01</td>\n",
       "      <td>498</td>\n",
       "    </tr>\n",
       "    <tr>\n",
       "      <th>3</th>\n",
       "      <td>2004-04-01</td>\n",
       "      <td>397</td>\n",
       "    </tr>\n",
       "    <tr>\n",
       "      <th>4</th>\n",
       "      <td>2004-05-01</td>\n",
       "      <td>405</td>\n",
       "    </tr>\n",
       "    <tr>\n",
       "      <th>...</th>\n",
       "      <td>...</td>\n",
       "      <td>...</td>\n",
       "    </tr>\n",
       "    <tr>\n",
       "      <th>141</th>\n",
       "      <td>2015-10-01</td>\n",
       "      <td>3748</td>\n",
       "    </tr>\n",
       "    <tr>\n",
       "      <th>142</th>\n",
       "      <td>2015-11-01</td>\n",
       "      <td>2623</td>\n",
       "    </tr>\n",
       "    <tr>\n",
       "      <th>143</th>\n",
       "      <td>2015-12-01</td>\n",
       "      <td>1542</td>\n",
       "    </tr>\n",
       "    <tr>\n",
       "      <th>144</th>\n",
       "      <td>2016-01-01</td>\n",
       "      <td>1215</td>\n",
       "    </tr>\n",
       "    <tr>\n",
       "      <th>145</th>\n",
       "      <td>2016-02-01</td>\n",
       "      <td>1128</td>\n",
       "    </tr>\n",
       "  </tbody>\n",
       "</table>\n",
       "<p>146 rows × 2 columns</p>\n",
       "</div>"
      ],
      "text/plain": [
       "          Date  priceMod\n",
       "0   2004-01-01       849\n",
       "1   2004-02-01       736\n",
       "2   2004-03-01       498\n",
       "3   2004-04-01       397\n",
       "4   2004-05-01       405\n",
       "..         ...       ...\n",
       "141 2015-10-01      3748\n",
       "142 2015-11-01      2623\n",
       "143 2015-12-01      1542\n",
       "144 2016-01-01      1215\n",
       "145 2016-02-01      1128\n",
       "\n",
       "[146 rows x 2 columns]"
      ]
     },
     "execution_count": 14,
     "metadata": {},
     "output_type": "execute_result"
    }
   ],
   "source": [
    "m"
   ]
  },
  {
   "cell_type": "code",
   "execution_count": 15,
   "metadata": {},
   "outputs": [
    {
     "data": {
      "text/html": [
       "<div>\n",
       "<style scoped>\n",
       "    .dataframe tbody tr th:only-of-type {\n",
       "        vertical-align: middle;\n",
       "    }\n",
       "\n",
       "    .dataframe tbody tr th {\n",
       "        vertical-align: top;\n",
       "    }\n",
       "\n",
       "    .dataframe thead th {\n",
       "        text-align: right;\n",
       "    }\n",
       "</style>\n",
       "<table border=\"1\" class=\"dataframe\">\n",
       "  <thead>\n",
       "    <tr style=\"text-align: right;\">\n",
       "      <th></th>\n",
       "      <th>Date</th>\n",
       "      <th>priceMod</th>\n",
       "    </tr>\n",
       "  </thead>\n",
       "  <tbody>\n",
       "    <tr>\n",
       "      <th>0</th>\n",
       "      <td>2004-01-01</td>\n",
       "      <td>849</td>\n",
       "    </tr>\n",
       "    <tr>\n",
       "      <th>1</th>\n",
       "      <td>2004-02-01</td>\n",
       "      <td>736</td>\n",
       "    </tr>\n",
       "    <tr>\n",
       "      <th>2</th>\n",
       "      <td>2004-03-01</td>\n",
       "      <td>498</td>\n",
       "    </tr>\n",
       "    <tr>\n",
       "      <th>3</th>\n",
       "      <td>2004-04-01</td>\n",
       "      <td>397</td>\n",
       "    </tr>\n",
       "    <tr>\n",
       "      <th>4</th>\n",
       "      <td>2004-05-01</td>\n",
       "      <td>405</td>\n",
       "    </tr>\n",
       "    <tr>\n",
       "      <th>5</th>\n",
       "      <td>2004-06-01</td>\n",
       "      <td>455</td>\n",
       "    </tr>\n",
       "    <tr>\n",
       "      <th>6</th>\n",
       "      <td>2004-07-01</td>\n",
       "      <td>445</td>\n",
       "    </tr>\n",
       "    <tr>\n",
       "      <th>7</th>\n",
       "      <td>2004-08-01</td>\n",
       "      <td>461</td>\n",
       "    </tr>\n",
       "    <tr>\n",
       "      <th>8</th>\n",
       "      <td>2004-09-01</td>\n",
       "      <td>444</td>\n",
       "    </tr>\n",
       "    <tr>\n",
       "      <th>9</th>\n",
       "      <td>2004-10-01</td>\n",
       "      <td>547</td>\n",
       "    </tr>\n",
       "  </tbody>\n",
       "</table>\n",
       "</div>"
      ],
      "text/plain": [
       "        Date  priceMod\n",
       "0 2004-01-01       849\n",
       "1 2004-02-01       736\n",
       "2 2004-03-01       498\n",
       "3 2004-04-01       397\n",
       "4 2004-05-01       405\n",
       "5 2004-06-01       455\n",
       "6 2004-07-01       445\n",
       "7 2004-08-01       461\n",
       "8 2004-09-01       444\n",
       "9 2004-10-01       547"
      ]
     },
     "execution_count": 15,
     "metadata": {},
     "output_type": "execute_result"
    }
   ],
   "source": [
    "m.head(10)"
   ]
  },
  {
   "cell_type": "code",
   "execution_count": 16,
   "metadata": {},
   "outputs": [],
   "source": [
    "m=m.set_index('Date')"
   ]
  },
  {
   "cell_type": "code",
   "execution_count": 17,
   "metadata": {},
   "outputs": [
    {
     "data": {
      "text/html": [
       "<div>\n",
       "<style scoped>\n",
       "    .dataframe tbody tr th:only-of-type {\n",
       "        vertical-align: middle;\n",
       "    }\n",
       "\n",
       "    .dataframe tbody tr th {\n",
       "        vertical-align: top;\n",
       "    }\n",
       "\n",
       "    .dataframe thead th {\n",
       "        text-align: right;\n",
       "    }\n",
       "</style>\n",
       "<table border=\"1\" class=\"dataframe\">\n",
       "  <thead>\n",
       "    <tr style=\"text-align: right;\">\n",
       "      <th></th>\n",
       "      <th>priceMod</th>\n",
       "    </tr>\n",
       "    <tr>\n",
       "      <th>Date</th>\n",
       "      <th></th>\n",
       "    </tr>\n",
       "  </thead>\n",
       "  <tbody>\n",
       "    <tr>\n",
       "      <th>2004-01-01</th>\n",
       "      <td>849</td>\n",
       "    </tr>\n",
       "    <tr>\n",
       "      <th>2004-02-01</th>\n",
       "      <td>736</td>\n",
       "    </tr>\n",
       "    <tr>\n",
       "      <th>2004-03-01</th>\n",
       "      <td>498</td>\n",
       "    </tr>\n",
       "    <tr>\n",
       "      <th>2004-04-01</th>\n",
       "      <td>397</td>\n",
       "    </tr>\n",
       "    <tr>\n",
       "      <th>2004-05-01</th>\n",
       "      <td>405</td>\n",
       "    </tr>\n",
       "    <tr>\n",
       "      <th>...</th>\n",
       "      <td>...</td>\n",
       "    </tr>\n",
       "    <tr>\n",
       "      <th>2015-10-01</th>\n",
       "      <td>3748</td>\n",
       "    </tr>\n",
       "    <tr>\n",
       "      <th>2015-11-01</th>\n",
       "      <td>2623</td>\n",
       "    </tr>\n",
       "    <tr>\n",
       "      <th>2015-12-01</th>\n",
       "      <td>1542</td>\n",
       "    </tr>\n",
       "    <tr>\n",
       "      <th>2016-01-01</th>\n",
       "      <td>1215</td>\n",
       "    </tr>\n",
       "    <tr>\n",
       "      <th>2016-02-01</th>\n",
       "      <td>1128</td>\n",
       "    </tr>\n",
       "  </tbody>\n",
       "</table>\n",
       "<p>146 rows × 1 columns</p>\n",
       "</div>"
      ],
      "text/plain": [
       "            priceMod\n",
       "Date                \n",
       "2004-01-01       849\n",
       "2004-02-01       736\n",
       "2004-03-01       498\n",
       "2004-04-01       397\n",
       "2004-05-01       405\n",
       "...              ...\n",
       "2015-10-01      3748\n",
       "2015-11-01      2623\n",
       "2015-12-01      1542\n",
       "2016-01-01      1215\n",
       "2016-02-01      1128\n",
       "\n",
       "[146 rows x 1 columns]"
      ]
     },
     "execution_count": 17,
     "metadata": {},
     "output_type": "execute_result"
    }
   ],
   "source": [
    "m"
   ]
  },
  {
   "cell_type": "code",
   "execution_count": 18,
   "metadata": {},
   "outputs": [],
   "source": [
    "y=m['priceMod'].resample('M').mean()  "
   ]
  },
  {
   "cell_type": "code",
   "execution_count": 19,
   "metadata": {},
   "outputs": [
    {
     "data": {
      "text/plain": [
       "Date\n",
       "2004-01-31    849.00\n",
       "2004-02-29    736.00\n",
       "2004-03-31    498.00\n",
       "2004-04-30    397.00\n",
       "2004-05-31    405.00\n",
       "               ...  \n",
       "2015-10-31   3748.00\n",
       "2015-11-30   2623.00\n",
       "2015-12-31   1542.00\n",
       "2016-01-31   1215.00\n",
       "2016-02-29   1128.00\n",
       "Freq: M, Name: priceMod, Length: 146, dtype: float64"
      ]
     },
     "execution_count": 19,
     "metadata": {},
     "output_type": "execute_result"
    }
   ],
   "source": [
    "y"
   ]
  },
  {
   "cell_type": "code",
   "execution_count": 20,
   "metadata": {},
   "outputs": [
    {
     "data": {
      "image/png": "[encoded data removed]",
      "text/plain": [
       "<Figure size 720x432 with 1 Axes>"
      ]
     },
     "metadata": {
      "needs_background": "light"
     },
     "output_type": "display_data"
    }
   ],
   "source": [
    "y.plot(figsize=(10,6))\n",
    "mp.show()"
   ]
  },
  {
   "cell_type": "markdown",
   "metadata": {},
   "source": [
    "We can see it consist of both trend and seasonality."
   ]
  },
  {
   "cell_type": "code",
   "execution_count": 21,
   "metadata": {},
   "outputs": [
    {
     "data": {
      "text/plain": [
       "(120,)"
      ]
     },
     "execution_count": 21,
     "metadata": {},
     "output_type": "execute_result"
    }
   ],
   "source": [
    "train=y.loc[:'2013-12-31']\n",
    "train.shape"
   ]
  },
  {
   "cell_type": "code",
   "execution_count": 22,
   "metadata": {},
   "outputs": [
    {
     "data": {
      "text/plain": [
       "(26,)"
      ]
     },
     "execution_count": 22,
     "metadata": {},
     "output_type": "execute_result"
    }
   ],
   "source": [
    "test=y.loc['2014-01-31':]\n",
    "test.shape"
   ]
  },
  {
   "cell_type": "code",
   "execution_count": 23,
   "metadata": {},
   "outputs": [
    {
     "data": {
      "image/png": "[encoded data removed]",
      "text/plain": [
       "<Figure size 432x288 with 4 Axes>"
      ]
     },
     "metadata": {
      "needs_background": "light"
     },
     "output_type": "display_data"
    }
   ],
   "source": [
    "import statsmodels.api as sm\n",
    "decomposition =sm.tsa.seasonal_decompose(y)\n",
    "fig=decomposition.plot()\n",
    "mp.show()"
   ]
  },
  {
   "cell_type": "markdown",
   "metadata": {},
   "source": [
    "From this we can say the seasonal period is of 12 months"
   ]
  },
  {
   "cell_type": "code",
   "execution_count": 24,
   "metadata": {},
   "outputs": [
    {
     "data": {
      "image/png": "[encoded data removed]",
      "text/plain": [
       "<Figure size 720x432 with 1 Axes>"
      ]
     },
     "metadata": {
      "needs_background": "light"
     },
     "output_type": "display_data"
    }
   ],
   "source": [
    "#plotting the data\n",
    "train.plot(figsize=(10,6),title='priceMod',fontsize=14)\n",
    "test.plot(figsize=(10,6),title='priceMod',fontsize=14)\n",
    "mp.show()"
   ]
  },
  {
   "cell_type": "markdown",
   "metadata": {},
   "source": [
    "# Exponential Smoothing Model"
   ]
  },
  {
   "cell_type": "code",
   "execution_count": 25,
   "metadata": {},
   "outputs": [
    {
     "data": {
      "image/png": "[encoded data removed]",
      "text/plain": [
       "<Figure size 720x432 with 1 Axes>"
      ]
     },
     "metadata": {
      "needs_background": "light"
     },
     "output_type": "display_data"
    }
   ],
   "source": [
    "from statsmodels.tsa.api import ExponentialSmoothing\n",
    "Holt_Winter_df = test.copy()\n",
    "\n",
    "fit1 = ExponentialSmoothing(train,seasonal_periods=12,trend='mul',seasonal='mul').fit()\n",
    "Holt_Winter_df['Holt_Winter'] = fit1.forecast(steps=len(test))\n",
    "\n",
    "train.plot(figsize=(10,6), title= 'Average Sales', fontsize=14)\n",
    "test.plot(figsize=(10,6), title= 'Average Sales', fontsize=14)\n",
    "Holt_Winter_df['Holt_Winter'].plot(figsize=(10,6), title= 'Average Sales', fontsize=14)\n",
    "mp.show()"
   ]
  },
  {
   "cell_type": "code",
   "execution_count": 26,
   "metadata": {},
   "outputs": [
    {
     "data": {
      "text/plain": [
       "1410.293959897431"
      ]
     },
     "execution_count": 26,
     "metadata": {},
     "output_type": "execute_result"
    }
   ],
   "source": [
    "fit1.aic"
   ]
  },
  {
   "cell_type": "code",
   "execution_count": 27,
   "metadata": {},
   "outputs": [
    {
     "name": "stdout",
     "output_type": "stream",
     "text": [
      "981.8034927050603\n"
     ]
    }
   ],
   "source": [
    "from sklearn.metrics import mean_squared_error\n",
    "from math import sqrt\n",
    "rmse=sqrt(mean_squared_error(test,Holt_Winter_df['Holt_Winter']))\n",
    "print(rmse)"
   ]
  },
  {
   "cell_type": "markdown",
   "metadata": {},
   "source": [
    "# Sarimax model"
   ]
  },
  {
   "cell_type": "code",
   "execution_count": 28,
   "metadata": {},
   "outputs": [],
   "source": [
    "import pmdarima as pm"
   ]
  },
  {
   "cell_type": "code",
   "execution_count": 29,
   "metadata": {},
   "outputs": [
    {
     "name": "stdout",
     "output_type": "stream",
     "text": [
      "Performing stepwise search to minimize aic\n",
      " ARIMA(0,0,0)(0,0,0)[12] intercept   : AIC=2398.095, Time=0.02 sec\n",
      " ARIMA(1,0,0)(1,0,0)[12] intercept   : AIC=2185.897, Time=0.08 sec\n",
      " ARIMA(0,0,1)(0,0,1)[12] intercept   : AIC=inf, Time=0.09 sec\n",
      " ARIMA(0,0,0)(0,0,0)[12]             : AIC=2535.797, Time=0.02 sec\n",
      " ARIMA(1,0,0)(0,0,0)[12] intercept   : AIC=2183.908, Time=0.03 sec\n",
      " ARIMA(1,0,0)(0,0,1)[12] intercept   : AIC=2185.904, Time=0.04 sec\n",
      " ARIMA(1,0,0)(1,0,1)[12] intercept   : AIC=2179.426, Time=0.24 sec\n",
      " ARIMA(1,0,0)(2,0,1)[12] intercept   : AIC=2155.130, Time=0.51 sec\n",
      " ARIMA(1,0,0)(2,0,0)[12] intercept   : AIC=2154.040, Time=0.59 sec\n",
      " ARIMA(1,0,0)(3,0,0)[12] intercept   : AIC=2155.296, Time=1.13 sec\n",
      " ARIMA(1,0,0)(3,0,1)[12] intercept   : AIC=inf, Time=1.74 sec\n",
      " ARIMA(0,0,0)(2,0,0)[12] intercept   : AIC=2348.171, Time=0.39 sec\n",
      " ARIMA(2,0,0)(2,0,0)[12] intercept   : AIC=2109.165, Time=0.54 sec\n",
      " ARIMA(2,0,0)(1,0,0)[12] intercept   : AIC=2120.967, Time=0.36 sec\n",
      " ARIMA(2,0,0)(3,0,0)[12] intercept   : AIC=2110.727, Time=1.26 sec\n",
      " ARIMA(2,0,0)(2,0,1)[12] intercept   : AIC=2110.681, Time=0.45 sec\n",
      " ARIMA(2,0,0)(1,0,1)[12] intercept   : AIC=2117.424, Time=0.36 sec\n",
      " ARIMA(2,0,0)(3,0,1)[12] intercept   : AIC=2112.566, Time=1.91 sec\n",
      " ARIMA(3,0,0)(2,0,0)[12] intercept   : AIC=2107.048, Time=0.66 sec\n",
      " ARIMA(3,0,0)(1,0,0)[12] intercept   : AIC=2119.171, Time=0.16 sec\n",
      " ARIMA(3,0,0)(3,0,0)[12] intercept   : AIC=2109.053, Time=1.73 sec\n",
      " ARIMA(3,0,0)(2,0,1)[12] intercept   : AIC=2109.428, Time=0.54 sec\n",
      " ARIMA(3,0,0)(1,0,1)[12] intercept   : AIC=2113.820, Time=0.53 sec\n",
      " ARIMA(3,0,0)(3,0,1)[12] intercept   : AIC=2110.977, Time=2.12 sec\n",
      " ARIMA(3,0,1)(2,0,0)[12] intercept   : AIC=2108.674, Time=0.65 sec\n",
      " ARIMA(2,0,1)(2,0,0)[12] intercept   : AIC=2106.776, Time=0.54 sec\n",
      " ARIMA(2,0,1)(1,0,0)[12] intercept   : AIC=2119.561, Time=0.38 sec\n",
      " ARIMA(2,0,1)(3,0,0)[12] intercept   : AIC=2108.769, Time=1.00 sec\n",
      " ARIMA(2,0,1)(2,0,1)[12] intercept   : AIC=2108.733, Time=0.68 sec\n",
      " ARIMA(2,0,1)(1,0,1)[12] intercept   : AIC=2118.062, Time=0.54 sec\n",
      " ARIMA(2,0,1)(3,0,1)[12] intercept   : AIC=2110.710, Time=1.79 sec\n",
      " ARIMA(1,0,1)(2,0,0)[12] intercept   : AIC=2110.284, Time=0.54 sec\n",
      " ARIMA(2,0,2)(2,0,0)[12] intercept   : AIC=2109.068, Time=0.52 sec\n",
      " ARIMA(1,0,2)(2,0,0)[12] intercept   : AIC=2107.958, Time=0.39 sec\n",
      " ARIMA(3,0,2)(2,0,0)[12] intercept   : AIC=2110.705, Time=0.76 sec\n",
      " ARIMA(2,0,1)(2,0,0)[12]             : AIC=2117.348, Time=0.28 sec\n",
      "\n",
      "Best model:  ARIMA(2,0,1)(2,0,0)[12] intercept\n",
      "Total fit time: 23.547 seconds\n"
     ]
    }
   ],
   "source": [
    "model = pm.auto_arima(y,start_p=0, max_p=3, d=None, max_d=2,start_q=0, max_q=3,  \n",
    "                      start_P=0,max_P=3, D=None, max_D=2, start_Q=0, max_Q=3,\n",
    "                      max_order=10, m=12, seasonal=True, information_criterion='aic',\n",
    "                      test='adf',trace=True,random_state=10)"
   ]
  },
  {
   "cell_type": "code",
   "execution_count": 30,
   "metadata": {},
   "outputs": [],
   "source": [
    "from statsmodels.tsa.statespace.sarimax import SARIMAX\n",
    "model=SARIMAX(y,order=(2,0,1),seasonal_order=(2,0,0,12)).fit()"
   ]
  },
  {
   "cell_type": "code",
   "execution_count": 31,
   "metadata": {},
   "outputs": [
    {
     "data": {
      "image/png": "[encoded data removed]",
      "text/plain": [
       "<Figure size 720x432 with 1 Axes>"
      ]
     },
     "metadata": {
      "needs_background": "light"
     },
     "output_type": "display_data"
    }
   ],
   "source": [
    "pred=model.get_prediction(start=pd.to_datetime('2014-01-31'))\n",
    "#pred=model.get_forecast(steps=12)\n",
    "mp.figure(figsize=(10,6))\n",
    "ax=y.plot(label='observed')\n",
    "pred.predicted_mean.plot(ax=ax,label='Validation Forecast')\n",
    "ax.set_xlabel('Date')\n",
    "ax.set_ylabel('priceMod')\n",
    "mp.legend()\n",
    "mp.show()"
   ]
  },
  {
   "cell_type": "code",
   "execution_count": 32,
   "metadata": {},
   "outputs": [
    {
     "data": {
      "text/plain": [
       "Date\n",
       "2014-01-31    701.80\n",
       "2014-02-28   1107.99\n",
       "2014-03-31    450.94\n",
       "2014-04-30    979.64\n",
       "2014-05-31    840.30\n",
       "2014-06-30   1188.95\n",
       "2014-07-31   1908.82\n",
       "2014-08-31   2129.01\n",
       "2014-09-30   1505.40\n",
       "2014-10-31   1446.65\n",
       "2014-11-30   1554.74\n",
       "2014-12-31   1901.09\n",
       "2015-01-31   1660.11\n",
       "2015-02-28   1196.44\n",
       "2015-03-31   1341.51\n",
       "2015-04-30   1352.48\n",
       "2015-05-31   1205.56\n",
       "2015-06-30   1832.34\n",
       "2015-07-31   2287.46\n",
       "2015-08-31   2793.78\n",
       "2015-09-30   5309.93\n",
       "2015-10-31   4127.55\n",
       "2015-11-30   2719.95\n",
       "2015-12-31   1491.35\n",
       "2016-01-31   1195.52\n",
       "2016-02-29    932.67\n",
       "Freq: M, Name: predicted_mean, dtype: float64"
      ]
     },
     "execution_count": 32,
     "metadata": {},
     "output_type": "execute_result"
    }
   ],
   "source": [
    "pred.predicted_mean"
   ]
  },
  {
   "cell_type": "code",
   "execution_count": 33,
   "metadata": {},
   "outputs": [
    {
     "name": "stdout",
     "output_type": "stream",
     "text": [
      "410.9163136948727\n"
     ]
    }
   ],
   "source": [
    "Y_pred=pred.predicted_mean\n",
    "Y_test=y['2014-01-31':]\n",
    "from sklearn.metrics import mean_squared_error\n",
    "from math import sqrt\n",
    "rms=sqrt(mean_squared_error(Y_test,Y_pred))\n",
    "print(rms)"
   ]
  },
  {
   "cell_type": "markdown",
   "metadata": {},
   "source": [
    "# SO AFTER BUILDING THE TIME SERIES MODEL WE CAN CLEARLY SEE THAT SARIMAX MODEL IS PERFORMING MUCH BETTER THAN EXPONENTIAL SMOOTHING WITH THE LOWEST RMSE VALUE 410.91"
   ]
  },
  {
   "cell_type": "code",
   "execution_count": 34,
   "metadata": {},
   "outputs": [
    {
     "data": {
      "image/png": "[encoded data removed]",
      "text/plain": [
       "<Figure size 864x288 with 1 Axes>"
      ]
     },
     "metadata": {
      "needs_background": "light"
     },
     "output_type": "display_data"
    }
   ],
   "source": [
    "from statsmodels.graphics.tsaplots import plot_acf, plot_pacf\n",
    "fig, ax = mp.subplots(figsize=(12, 4))\n",
    "plot_acf(m, ax=ax, lags=30)\n",
    "ax.set_title('Autocorrelation Function (ACF)')\n",
    "mp.show()"
   ]
  },
  {
   "cell_type": "code",
   "execution_count": 35,
   "metadata": {},
   "outputs": [],
   "source": [
    "#ACF (Autocorrelation Function) shows how correlated a time series is with its past values at different lags"
   ]
  },
  {
   "cell_type": "code",
   "execution_count": 36,
   "metadata": {},
   "outputs": [
    {
     "data": {
      "image/png": "[encoded data removed]",
      "text/plain": [
       "<Figure size 864x288 with 1 Axes>"
      ]
     },
     "metadata": {
      "needs_background": "light"
     },
     "output_type": "display_data"
    }
   ],
   "source": [
    "# Plot PACF\n",
    "fig, ax = mp.subplots(figsize=(12, 4))\n",
    "plot_pacf(m, ax=ax, lags=30)\n",
    "ax.set_title('Partial Autocorrelation Function (PACF)')\n",
    "mp.show()"
   ]
  },
  {
   "cell_type": "code",
   "execution_count": 37,
   "metadata": {},
   "outputs": [],
   "source": [
    "#PACF (Partial Autocorrelation Function) shows the direct correlation between a time series and its past values, \n",
    "#removing the influence of intermediate lags."
   ]
  },
  {
   "cell_type": "markdown",
   "metadata": {},
   "source": [
    "# FUTURE PREDICTIOB FOR NEXT 12 MONTHS\n",
    "We are going to make use of sarimax model for this. "
   ]
  },
  {
   "cell_type": "code",
   "execution_count": 38,
   "metadata": {},
   "outputs": [
    {
     "data": {
      "image/png": "[encoded data removed]",
      "text/plain": [
       "<Figure size 720x432 with 1 Axes>"
      ]
     },
     "metadata": {
      "needs_background": "light"
     },
     "output_type": "display_data"
    }
   ],
   "source": [
    "#pred=model.get_prediction(start=pd.to_datetime('2014-01-31'))\n",
    "pred=model.get_forecast(steps=12)\n",
    "mp.figure(figsize=(10,6))\n",
    "ax=y.plot(label='observed')\n",
    "pred.predicted_mean.plot(ax=ax,label='Validation Forecast')\n",
    "ax.set_xlabel('Date')\n",
    "ax.set_ylabel('priceMod')\n",
    "mp.legend()\n",
    "mp.show()"
   ]
  },
  {
   "cell_type": "code",
   "execution_count": 39,
   "metadata": {},
   "outputs": [
    {
     "data": {
      "text/plain": [
       "2016-03-31   1178.56\n",
       "2016-04-30   1124.51\n",
       "2016-05-31   1096.96\n",
       "2016-06-30   1260.96\n",
       "2016-07-31   1382.93\n",
       "2016-08-31   1144.35\n",
       "2016-09-30    925.58\n",
       "2016-10-31    889.88\n",
       "2016-11-30    997.74\n",
       "2016-12-31    975.28\n",
       "2017-01-31    789.48\n",
       "2017-02-28    797.99\n",
       "Freq: M, Name: predicted_mean, dtype: float64"
      ]
     },
     "execution_count": 39,
     "metadata": {},
     "output_type": "execute_result"
    }
   ],
   "source": [
    "pred.predicted_mean"
   ]
  },
  {
   "cell_type": "markdown",
   "metadata": {},
   "source": [
    "# SO THIS IS THE FORECASTING FOR MUMBAI ONION MARKET FOR THE NEXT ONE YEAR"
   ]
  }
 ],
 "metadata": {
  "kernelspec": {
   "display_name": "Python 3",
   "language": "python",
   "name": "python3"
  },
  "language_info": {
   "codemirror_mode": {
    "name": "ipython",
    "version": 3
   },
   "file_extension": ".py",
   "mimetype": "text/x-python",
   "name": "python",
   "nbconvert_exporter": "python",
   "pygments_lexer": "ipython3",
   "version": "3.7.6"
  }
 },
 "nbformat": 4,
 "nbformat_minor": 4
}
